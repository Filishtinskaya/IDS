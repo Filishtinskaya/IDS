{
 "cells": [
  {
   "cell_type": "code",
   "execution_count": 56,
   "metadata": {},
   "outputs": [],
   "source": [
    "model_key = b'XHV8NFlHUA_wf3SOBDnZShXyUl0S_EQATd5fCkM_vMQ='"
   ]
  },
  {
   "cell_type": "code",
   "execution_count": 57,
   "metadata": {},
   "outputs": [],
   "source": [
    "labels_key = b'gAxVbCRif5wOMrRBkbayQXTKM_J5ekWXaxpyvLAU42M='"
   ]
  },
  {
   "cell_type": "code",
   "execution_count": 3,
   "metadata": {},
   "outputs": [],
   "source": [
    "import pickle\n",
    "from cryptography.fernet import Fernet\n",
    "import pandas as pd"
   ]
  },
  {
   "cell_type": "code",
   "execution_count": 12,
   "metadata": {},
   "outputs": [],
   "source": [
    "def labelName(x):\n",
    "    if (x == -1):\n",
    "        return \"anomaly\"\n",
    "    else:\n",
    "        return \"normal\""
   ]
  },
  {
   "cell_type": "code",
   "execution_count": 13,
   "metadata": {},
   "outputs": [],
   "source": [
    "def getLabels(key):\n",
    "    labels_file = open(\"labels.bin\", mode='rb')\n",
    "    f = Fernet(key)\n",
    "    labels = labels_file.read()\n",
    "    labels = f.decrypt(labels)\n",
    "    labels = pickle.loads(labels)\n",
    "    labels = pd.DataFrame(labels)\n",
    "    labels.reset_index(inplace=True)\n",
    "    labels.columns = ['num', 'val']\n",
    "    labels['val'] = labels['val'].apply(labelName)\n",
    "    labels_file.close()\n",
    "    return labels\n"
   ]
  },
  {
   "cell_type": "code",
   "execution_count": 58,
   "metadata": {},
   "outputs": [],
   "source": [
    "labels = getLabels(labels_key)"
   ]
  },
  {
   "cell_type": "code",
   "execution_count": 15,
   "metadata": {},
   "outputs": [
    {
     "data": {
      "text/html": [
       "<div>\n",
       "<style scoped>\n",
       "    .dataframe tbody tr th:only-of-type {\n",
       "        vertical-align: middle;\n",
       "    }\n",
       "\n",
       "    .dataframe tbody tr th {\n",
       "        vertical-align: top;\n",
       "    }\n",
       "\n",
       "    .dataframe thead th {\n",
       "        text-align: right;\n",
       "    }\n",
       "</style>\n",
       "<table border=\"1\" class=\"dataframe\">\n",
       "  <thead>\n",
       "    <tr style=\"text-align: right;\">\n",
       "      <th></th>\n",
       "      <th>num</th>\n",
       "      <th>val</th>\n",
       "    </tr>\n",
       "  </thead>\n",
       "  <tbody>\n",
       "    <tr>\n",
       "      <th>0</th>\n",
       "      <td>0</td>\n",
       "      <td>anomaly</td>\n",
       "    </tr>\n",
       "    <tr>\n",
       "      <th>1</th>\n",
       "      <td>1</td>\n",
       "      <td>anomaly</td>\n",
       "    </tr>\n",
       "    <tr>\n",
       "      <th>2</th>\n",
       "      <td>2</td>\n",
       "      <td>anomaly</td>\n",
       "    </tr>\n",
       "    <tr>\n",
       "      <th>3</th>\n",
       "      <td>3</td>\n",
       "      <td>anomaly</td>\n",
       "    </tr>\n",
       "    <tr>\n",
       "      <th>4</th>\n",
       "      <td>4</td>\n",
       "      <td>anomaly</td>\n",
       "    </tr>\n",
       "  </tbody>\n",
       "</table>\n",
       "</div>"
      ],
      "text/plain": [
       "   num      val\n",
       "0    0  anomaly\n",
       "1    1  anomaly\n",
       "2    2  anomaly\n",
       "3    3  anomaly\n",
       "4    4  anomaly"
      ]
     },
     "execution_count": 15,
     "metadata": {},
     "output_type": "execute_result"
    }
   ],
   "source": [
    "labels.head()"
   ]
  },
  {
   "cell_type": "code",
   "execution_count": 59,
   "metadata": {},
   "outputs": [],
   "source": [
    "dataset = pd.read_csv('Tuesday-WorkingHours.pcap_ISCX.csv')"
   ]
  },
  {
   "cell_type": "code",
   "execution_count": 60,
   "metadata": {},
   "outputs": [],
   "source": [
    "common = pd.concat([labels, dataset], axis=1)"
   ]
  },
  {
   "cell_type": "code",
   "execution_count": 31,
   "metadata": {},
   "outputs": [
    {
     "data": {
      "text/html": [
       "<div>\n",
       "<style scoped>\n",
       "    .dataframe tbody tr th:only-of-type {\n",
       "        vertical-align: middle;\n",
       "    }\n",
       "\n",
       "    .dataframe tbody tr th {\n",
       "        vertical-align: top;\n",
       "    }\n",
       "\n",
       "    .dataframe thead th {\n",
       "        text-align: right;\n",
       "    }\n",
       "</style>\n",
       "<table border=\"1\" class=\"dataframe\">\n",
       "  <thead>\n",
       "    <tr style=\"text-align: right;\">\n",
       "      <th></th>\n",
       "      <th>num</th>\n",
       "      <th>val</th>\n",
       "      <th>Flow ID</th>\n",
       "      <th>Source IP</th>\n",
       "      <th>Source Port</th>\n",
       "      <th>Destination IP</th>\n",
       "      <th>Destination Port</th>\n",
       "      <th>Protocol</th>\n",
       "      <th>Timestamp</th>\n",
       "      <th>Flow Duration</th>\n",
       "      <th>...</th>\n",
       "      <th>min_seg_size_forward</th>\n",
       "      <th>Active Mean</th>\n",
       "      <th>Active Std</th>\n",
       "      <th>Active Max</th>\n",
       "      <th>Active Min</th>\n",
       "      <th>Idle Mean</th>\n",
       "      <th>Idle Std</th>\n",
       "      <th>Idle Max</th>\n",
       "      <th>Idle Min</th>\n",
       "      <th>Label</th>\n",
       "    </tr>\n",
       "  </thead>\n",
       "  <tbody>\n",
       "    <tr>\n",
       "      <th>0</th>\n",
       "      <td>0.0</td>\n",
       "      <td>anomaly</td>\n",
       "      <td>192.168.10.3-192.168.10.5-88-49182-6</td>\n",
       "      <td>192.168.10.5</td>\n",
       "      <td>49182</td>\n",
       "      <td>192.168.10.3</td>\n",
       "      <td>88</td>\n",
       "      <td>6</td>\n",
       "      <td>4/7/2017 8:54</td>\n",
       "      <td>640</td>\n",
       "      <td>...</td>\n",
       "      <td>20</td>\n",
       "      <td>0.0</td>\n",
       "      <td>0.0</td>\n",
       "      <td>0.0</td>\n",
       "      <td>0.0</td>\n",
       "      <td>0.0</td>\n",
       "      <td>0.0</td>\n",
       "      <td>0.0</td>\n",
       "      <td>0.0</td>\n",
       "      <td>BENIGN</td>\n",
       "    </tr>\n",
       "    <tr>\n",
       "      <th>1</th>\n",
       "      <td>1.0</td>\n",
       "      <td>anomaly</td>\n",
       "      <td>192.168.10.3-192.168.10.5-88-49183-6</td>\n",
       "      <td>192.168.10.5</td>\n",
       "      <td>49183</td>\n",
       "      <td>192.168.10.3</td>\n",
       "      <td>88</td>\n",
       "      <td>6</td>\n",
       "      <td>4/7/2017 8:54</td>\n",
       "      <td>900</td>\n",
       "      <td>...</td>\n",
       "      <td>20</td>\n",
       "      <td>0.0</td>\n",
       "      <td>0.0</td>\n",
       "      <td>0.0</td>\n",
       "      <td>0.0</td>\n",
       "      <td>0.0</td>\n",
       "      <td>0.0</td>\n",
       "      <td>0.0</td>\n",
       "      <td>0.0</td>\n",
       "      <td>BENIGN</td>\n",
       "    </tr>\n",
       "    <tr>\n",
       "      <th>2</th>\n",
       "      <td>2.0</td>\n",
       "      <td>anomaly</td>\n",
       "      <td>192.168.10.3-192.168.10.5-88-49184-6</td>\n",
       "      <td>192.168.10.5</td>\n",
       "      <td>49184</td>\n",
       "      <td>192.168.10.3</td>\n",
       "      <td>88</td>\n",
       "      <td>6</td>\n",
       "      <td>4/7/2017 8:54</td>\n",
       "      <td>1205</td>\n",
       "      <td>...</td>\n",
       "      <td>20</td>\n",
       "      <td>0.0</td>\n",
       "      <td>0.0</td>\n",
       "      <td>0.0</td>\n",
       "      <td>0.0</td>\n",
       "      <td>0.0</td>\n",
       "      <td>0.0</td>\n",
       "      <td>0.0</td>\n",
       "      <td>0.0</td>\n",
       "      <td>BENIGN</td>\n",
       "    </tr>\n",
       "    <tr>\n",
       "      <th>3</th>\n",
       "      <td>3.0</td>\n",
       "      <td>anomaly</td>\n",
       "      <td>192.168.10.3-192.168.10.5-88-49185-6</td>\n",
       "      <td>192.168.10.5</td>\n",
       "      <td>49185</td>\n",
       "      <td>192.168.10.3</td>\n",
       "      <td>88</td>\n",
       "      <td>6</td>\n",
       "      <td>4/7/2017 8:54</td>\n",
       "      <td>511</td>\n",
       "      <td>...</td>\n",
       "      <td>20</td>\n",
       "      <td>0.0</td>\n",
       "      <td>0.0</td>\n",
       "      <td>0.0</td>\n",
       "      <td>0.0</td>\n",
       "      <td>0.0</td>\n",
       "      <td>0.0</td>\n",
       "      <td>0.0</td>\n",
       "      <td>0.0</td>\n",
       "      <td>BENIGN</td>\n",
       "    </tr>\n",
       "    <tr>\n",
       "      <th>4</th>\n",
       "      <td>4.0</td>\n",
       "      <td>anomaly</td>\n",
       "      <td>192.168.10.3-192.168.10.5-88-49186-6</td>\n",
       "      <td>192.168.10.5</td>\n",
       "      <td>49186</td>\n",
       "      <td>192.168.10.3</td>\n",
       "      <td>88</td>\n",
       "      <td>6</td>\n",
       "      <td>4/7/2017 8:54</td>\n",
       "      <td>773</td>\n",
       "      <td>...</td>\n",
       "      <td>20</td>\n",
       "      <td>0.0</td>\n",
       "      <td>0.0</td>\n",
       "      <td>0.0</td>\n",
       "      <td>0.0</td>\n",
       "      <td>0.0</td>\n",
       "      <td>0.0</td>\n",
       "      <td>0.0</td>\n",
       "      <td>0.0</td>\n",
       "      <td>BENIGN</td>\n",
       "    </tr>\n",
       "  </tbody>\n",
       "</table>\n",
       "<p>5 rows × 87 columns</p>\n",
       "</div>"
      ],
      "text/plain": [
       "   num      val                               Flow ID     Source IP  \\\n",
       "0  0.0  anomaly  192.168.10.3-192.168.10.5-88-49182-6  192.168.10.5   \n",
       "1  1.0  anomaly  192.168.10.3-192.168.10.5-88-49183-6  192.168.10.5   \n",
       "2  2.0  anomaly  192.168.10.3-192.168.10.5-88-49184-6  192.168.10.5   \n",
       "3  3.0  anomaly  192.168.10.3-192.168.10.5-88-49185-6  192.168.10.5   \n",
       "4  4.0  anomaly  192.168.10.3-192.168.10.5-88-49186-6  192.168.10.5   \n",
       "\n",
       "    Source Port  Destination IP   Destination Port   Protocol      Timestamp  \\\n",
       "0         49182    192.168.10.3                 88          6  4/7/2017 8:54   \n",
       "1         49183    192.168.10.3                 88          6  4/7/2017 8:54   \n",
       "2         49184    192.168.10.3                 88          6  4/7/2017 8:54   \n",
       "3         49185    192.168.10.3                 88          6  4/7/2017 8:54   \n",
       "4         49186    192.168.10.3                 88          6  4/7/2017 8:54   \n",
       "\n",
       "    Flow Duration   ...     min_seg_size_forward  Active Mean   Active Std  \\\n",
       "0             640   ...                       20          0.0          0.0   \n",
       "1             900   ...                       20          0.0          0.0   \n",
       "2            1205   ...                       20          0.0          0.0   \n",
       "3             511   ...                       20          0.0          0.0   \n",
       "4             773   ...                       20          0.0          0.0   \n",
       "\n",
       "    Active Max   Active Min  Idle Mean   Idle Std   Idle Max   Idle Min  \\\n",
       "0          0.0          0.0        0.0        0.0        0.0        0.0   \n",
       "1          0.0          0.0        0.0        0.0        0.0        0.0   \n",
       "2          0.0          0.0        0.0        0.0        0.0        0.0   \n",
       "3          0.0          0.0        0.0        0.0        0.0        0.0   \n",
       "4          0.0          0.0        0.0        0.0        0.0        0.0   \n",
       "\n",
       "    Label  \n",
       "0  BENIGN  \n",
       "1  BENIGN  \n",
       "2  BENIGN  \n",
       "3  BENIGN  \n",
       "4  BENIGN  \n",
       "\n",
       "[5 rows x 87 columns]"
      ]
     },
     "execution_count": 31,
     "metadata": {},
     "output_type": "execute_result"
    }
   ],
   "source": [
    "common.head()"
   ]
  },
  {
   "cell_type": "code",
   "execution_count": 32,
   "metadata": {},
   "outputs": [],
   "source": [
    "import seaborn as sns"
   ]
  },
  {
   "cell_type": "code",
   "execution_count": 67,
   "metadata": {
    "scrolled": true
   },
   "outputs": [
    {
     "data": {
      "text/plain": [
       "<matplotlib.axes._subplots.AxesSubplot at 0x7f30392b8630>"
      ]
     },
     "execution_count": 67,
     "metadata": {},
     "output_type": "execute_result"
    },
    {
     "data": {
      "image/png": "[encoded data removed]",
      "text/plain": [
       "<Figure size 432x288 with 1 Axes>"
      ]
     },
     "metadata": {
      "needs_background": "light"
     },
     "output_type": "display_data"
    }
   ],
   "source": [
    "sns.stripplot(data=common, x=' Label', y='num', hue='val', s=1)"
   ]
  },
  {
   "cell_type": "code",
   "execution_count": null,
   "metadata": {},
   "outputs": [],
   "source": []
  }
 ],
 "metadata": {
  "kernelspec": {
   "display_name": "Python 3",
   "language": "python",
   "name": "python3"
  },
  "language_info": {
   "codemirror_mode": {
    "name": "ipython",
    "version": 3
   },
   "file_extension": ".py",
   "mimetype": "text/x-python",
   "name": "python",
   "nbconvert_exporter": "python",
   "pygments_lexer": "ipython3",
   "version": "3.7.1"
  }
 },
 "nbformat": 4,
 "nbformat_minor": 2
}
